{
 "cells": [
  {
   "cell_type": "markdown",
   "metadata": {},
   "source": [
    "###  SQL Transaction"
   ]
  },
  {
   "cell_type": "markdown",
   "metadata": {},
   "source": [
    "#### transactions\n",
    "\n",
    "```SQL\n",
    "-- test.db\n",
    "\n",
    "CREATE TABLE widgetInventory (\n",
    "  id INTEGER PRIMARY KEY,\n",
    "  description TEXT,\n",
    "  onhand INTEGER NOT NULL\n",
    ");\n",
    "\n",
    "CREATE TABLE widgetSales (\n",
    "  id INTEGER PRIMARY KEY,\n",
    "  inv_id INTEGER,\n",
    "  quan INTEGER,\n",
    "  price INTEGER\n",
    ");\n",
    "\n",
    "INSERT INTO widgetInventory ( description, onhand ) VALUES ( 'rock', 25 );\n",
    "INSERT INTO widgetInventory ( description, onhand ) VALUES ( 'paper', 25 );\n",
    "INSERT INTO widgetInventory ( description, onhand ) VALUES ( 'scissors', 25 );\n",
    "\n",
    "SELECT * FROM widgetInventory;\n",
    "SELECT * FROM widgetSales;\n",
    "\n",
    "BEGIN TRANSACTION;\n",
    "INSERT INTO widgetSales ( inv_id, quan, price ) VALUES ( 1, 5, 500 );\n",
    "UPDATE widgetInventory SET onhand = ( onhand - 5 ) WHERE id = 1;\n",
    "END TRANSACTION;\n",
    "\n",
    "BEGIN TRANSACTION;\n",
    "INSERT INTO widgetInventory ( description, onhand ) VALUES ( 'toy', 25 );\n",
    "ROLLBACK;\n",
    "SELECT * FROM widgetInventory;\n",
    "\n",
    "-- restore database\n",
    "DROP TABLE IF EXISTS widgetInventory;\n",
    "DROP TABLE IF EXISTS widgetSales;\n",
    "```"
   ]
  },
  {
   "cell_type": "markdown",
   "metadata": {},
   "source": [
    "#### performance\n",
    "\n",
    "```SQL\n",
    "-- test.db\n",
    "\n",
    "CREATE TABLE test ( id INTEGER PRIMARY KEY, data TEXT );\n",
    "\n",
    "-- put this before the 1,000 INSERT statements\n",
    "BEGIN TRANSACTION;\n",
    "\n",
    "-- copy / paste 1,000 of these ...\n",
    "INSERT INTO test ( data ) VALUES ( 'this is a good sized line of text.' );\n",
    "\n",
    "-- put this after the 1,000 INSERT statements\n",
    "END TRANSACTION;\n",
    "\n",
    "SELECT COUNT(*) FROM test;\n",
    "\n",
    "-- restore database\n",
    "DROP TABLE test;\n",
    "```"
   ]
  }
 ],
 "metadata": {
  "kernelspec": {
   "display_name": "Python 3",
   "language": "python",
   "name": "python3"
  },
  "language_info": {
   "codemirror_mode": {
    "name": "ipython",
    "version": 3
   },
   "file_extension": ".py",
   "mimetype": "text/x-python",
   "name": "python",
   "nbconvert_exporter": "python",
   "pygments_lexer": "ipython3",
   "version": "3.7.9"
  },
  "toc": {
   "base_numbering": 1,
   "nav_menu": {},
   "number_sections": true,
   "sideBar": true,
   "skip_h1_title": false,
   "title_cell": "Table of Contents",
   "title_sidebar": "Contents",
   "toc_cell": false,
   "toc_position": {},
   "toc_section_display": true,
   "toc_window_display": false
  }
 },
 "nbformat": 4,
 "nbformat_minor": 4
}
