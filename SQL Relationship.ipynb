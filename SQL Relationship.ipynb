{
 "cells": [
  {
   "cell_type": "markdown",
   "metadata": {},
   "source": [
    "### SQL Relationship"
   ]
  },
  {
   "cell_type": "code",
   "execution_count": null,
   "metadata": {},
   "outputs": [],
   "source": [
    "import pandas as pd\n",
    "import sqlite3"
   ]
  },
  {
   "cell_type": "markdown",
   "metadata": {},
   "source": [
    "#### JOIN\n",
    "\n",
    "```SQL\n",
    "-- test.db\n",
    "\n",
    "-- join example tables, left and right\n",
    "CREATE TABLE left ( id INTEGER, description TEXT );\n",
    "CREATE TABLE right ( id INTEGER, description TEXT );\n",
    "\n",
    "INSERT INTO left VALUES ( 1, 'left 01' );\n",
    "INSERT INTO left VALUES ( 2, 'left 02' );\n",
    "INSERT INTO left VALUES ( 3, 'left 03' );\n",
    "INSERT INTO left VALUES ( 4, 'left 04' );\n",
    "INSERT INTO left VALUES ( 5, 'left 05' );\n",
    "INSERT INTO left VALUES ( 6, 'left 06' );\n",
    "INSERT INTO left VALUES ( 7, 'left 07' );\n",
    "INSERT INTO left VALUES ( 8, 'left 08' );\n",
    "INSERT INTO left VALUES ( 9, 'left 09' );\n",
    "\n",
    "INSERT INTO right VALUES ( 6, 'right 06' );\n",
    "INSERT INTO right VALUES ( 7, 'right 07' );\n",
    "INSERT INTO right VALUES ( 8, 'right 08' );\n",
    "INSERT INTO right VALUES ( 9, 'right 09' );\n",
    "INSERT INTO right VALUES ( 10, 'right 10' );\n",
    "INSERT INTO right VALUES ( 11, 'right 11' );\n",
    "INSERT INTO right VALUES ( 11, 'right 12' );\n",
    "INSERT INTO right VALUES ( 11, 'right 13' );\n",
    "INSERT INTO right VALUES ( 11, 'right 14' );\n",
    "\n",
    "SELECT * FROM left;\n",
    "SELECT * FROM right;\n",
    "\n",
    "SELECT l.description AS left, r.description AS right\n",
    "FROM left AS l\n",
    "JOIN right AS r \n",
    "ON l.id = r.id;\n",
    "```"
   ]
  },
  {
   "cell_type": "markdown",
   "metadata": {},
   "source": [
    "#### restore database\n",
    "\n",
    "```SQL\n",
    "DROP TABLE left;\n",
    "DROP TABLE right;\n",
    "\n",
    "-- sale example\n",
    "SELECT * FROM sale;\n",
    "SELECT * FROM item;\n",
    "\n",
    "SELECT s.id AS sale, i.name, s.price \n",
    "  FROM sale AS s\n",
    "  JOIN item AS i ON s.item_id = i.id\n",
    "  ;\n",
    "\n",
    "SELECT s.id AS sale, s.date, i.name, i.description, s.price \n",
    "  FROM sale AS s\n",
    "  JOIN item AS i ON s.item_id = i.id;\n",
    " ```"
   ]
  },
  {
   "cell_type": "markdown",
   "metadata": {},
   "source": [
    "#### Junction Table\n",
    "\n",
    "```SQL\n",
    "-- test.db\n",
    "\n",
    "SELECT * FROM customer;\n",
    "SELECT * FROM item;\n",
    "SELECT * FROM sale;\n",
    "\n",
    "SELECT c.name AS Cust, c.zip, i.name AS Item, i.description, s.quantity AS Quan, s.price AS Price\n",
    "FROM sale AS s\n",
    "JOIN item AS i ON s.item_id = i.id\n",
    "JOIN customer AS c ON s.customer_id = c.id\n",
    "ORDER BY Cust, Item;\n",
    "\n",
    "-- a customer without sales\n",
    "INSERT INTO customer ( name ) VALUES ( 'Jane Smith' );\n",
    "SELECT * FROM customer;\n",
    "\n",
    "-- left joins\n",
    "SELECT c.name AS Cust, c.zip, i.name AS Item, i.description, s.quantity AS Quan, s.price AS Price\n",
    "FROM customer AS c\n",
    "LEFT JOIN sale AS s ON s.customer_id = c.id\n",
    "LEFT JOIN item AS i ON s.item_id = i.id\n",
    "ORDER BY Cust, Item;\n",
    "\n",
    "-- restore database\n",
    "DELETE FROM customer WHERE id = 4;\n",
    "\n",
    "```"
   ]
  }
 ],
 "metadata": {
  "kernelspec": {
   "display_name": "Python 3",
   "language": "python",
   "name": "python3"
  },
  "language_info": {
   "codemirror_mode": {
    "name": "ipython",
    "version": 3
   },
   "file_extension": ".py",
   "mimetype": "text/x-python",
   "name": "python",
   "nbconvert_exporter": "python",
   "pygments_lexer": "ipython3",
   "version": "3.7.9"
  },
  "toc": {
   "base_numbering": 1,
   "nav_menu": {},
   "number_sections": true,
   "sideBar": true,
   "skip_h1_title": false,
   "title_cell": "Table of Contents",
   "title_sidebar": "Contents",
   "toc_cell": false,
   "toc_position": {},
   "toc_section_display": true,
   "toc_window_display": false
  }
 },
 "nbformat": 4,
 "nbformat_minor": 4
}
