{
 "cells": [
  {
   "cell_type": "markdown",
   "metadata": {},
   "source": [
    "### SQL Triggers"
   ]
  },
  {
   "cell_type": "code",
   "execution_count": 2,
   "metadata": {},
   "outputs": [],
   "source": [
    "import pandas as pd \n",
    "import sqlite3"
   ]
  },
  {
   "cell_type": "markdown",
   "metadata": {},
   "source": [
    "#### update triggers\n",
    "\n",
    "```SQL\n",
    "-- test.db\n",
    "\n",
    "CREATE TABLE widgetCustomer ( id INTEGER PRIMARY KEY, name TEXT, last_order_id INT );\n",
    "CREATE TABLE widgetSale ( id INTEGER PRIMARY KEY, item_id INT, customer_id INT, quan INT, price INT );\n",
    "\n",
    "INSERT INTO widgetCustomer (name) VALUES ('Bob');\n",
    "INSERT INTO widgetCustomer (name) VALUES ('Sally');\n",
    "INSERT INTO widgetCustomer (name) VALUES ('Fred');\n",
    "\n",
    "SELECT * FROM widgetCustomer;\n",
    "\n",
    "CREATE TRIGGER newWidgetSale AFTER INSERT ON widgetSale\n",
    "    BEGIN\n",
    "        UPDATE widgetCustomer SET last_order_id = NEW.id WHERE widgetCustomer.id = NEW.customer_id;\n",
    "    END\n",
    ";\n",
    "\n",
    "INSERT INTO widgetSale (item_id, customer_id, quan, price) VALUES (1, 3, 5, 1995);\n",
    "INSERT INTO widgetSale (item_id, customer_id, quan, price) VALUES (2, 2, 3, 1495);\n",
    "INSERT INTO widgetSale (item_id, customer_id, quan, price) VALUES (3, 1, 1, 2995);\n",
    "SELECT * FROM widgetSale;\n",
    "SELECT * FROM widgetCustomer;\n",
    "```"
   ]
  },
  {
   "cell_type": "markdown",
   "metadata": {},
   "source": [
    "#### preventing updates\n",
    "\n",
    "```SQL\n",
    "-- test.db\n",
    "\n",
    "DROP TABLE IF EXISTS widgetSale;\n",
    "\n",
    "CREATE TABLE widgetSale ( id integer primary key, item_id INT, customer_id INTEGER, quan INT, price INT,\n",
    "    reconciled INT );\n",
    "INSERT INTO widgetSale (item_id, customer_id, quan, price, reconciled) VALUES (1, 3, 5, 1995, 0);\n",
    "INSERT INTO widgetSale (item_id, customer_id, quan, price, reconciled) VALUES (2, 2, 3, 1495, 1);\n",
    "INSERT INTO widgetSale (item_id, customer_id, quan, price, reconciled) VALUES (3, 1, 1, 2995, 0);\n",
    "SELECT * FROM widgetSale;\n",
    "\n",
    "CREATE TRIGGER updateWidgetSale BEFORE UPDATE ON widgetSale\n",
    "    BEGIN\n",
    "        SELECT RAISE(ROLLBACK, 'cannot update table \"widgetSale\"') FROM widgetSale\n",
    "            WHERE id = NEW.id AND reconciled = 1;\n",
    "    END\n",
    ";\n",
    "\n",
    "BEGIN TRANSACTION;\n",
    "UPDATE widgetSale SET quan = 9 WHERE id = 2;\n",
    "END TRANSACTION;\n",
    "\n",
    "SELECT * FROM widgetSale;\n",
    "```"
   ]
  },
  {
   "cell_type": "markdown",
   "metadata": {},
   "source": [
    "#### timestamps\n",
    "\n",
    "```SQL\n",
    "-- test.db\n",
    "\n",
    "DROP TABLE IF EXISTS widgetSale;\n",
    "DROP TABLE IF EXISTS widgetCustomer;\n",
    "\n",
    "CREATE TABLE widgetCustomer ( id integer primary key, name TEXT, last_order_id INT, stamp TEXT );\n",
    "CREATE TABLE widgetSale ( id integer primary key, item_id INT, customer_id INTEGER, quan INT, price INT, stamp TEXT );\n",
    "CREATE TABLE widgetLog ( id integer primary key, stamp TEXT, event TEXT, username TEXT, tablename TEXT, table_id INT);\n",
    "\n",
    "INSERT INTO widgetCustomer (name) VALUES ('Bob');\n",
    "INSERT INTO widgetCustomer (name) VALUES ('Sally');\n",
    "INSERT INTO widgetCustomer (name) VALUES ('Fred');\n",
    "SELECT * FROM widgetCustomer;\n",
    "\n",
    "CREATE TRIGGER stampSale AFTER INSERT ON widgetSale\n",
    "    BEGIN\n",
    "        UPDATE widgetSale SET stamp = DATETIME('now') WHERE id = NEW.id;\n",
    "        UPDATE widgetCustomer SET last_order_id = NEW.id, stamp = DATETIME('now')\n",
    "            WHERE widgetCustomer.id = NEW.customer_id;\n",
    "        INSERT INTO widgetLog (stamp, event, username, tablename, table_id)\n",
    "            VALUES (DATETIME('now'), 'INSERT', 'TRIGGER', 'widgetSale', NEW.id);\n",
    "    END\n",
    ";\n",
    "\n",
    "INSERT INTO widgetSale (item_id, customer_id, quan, price) VALUES (1, 3, 5, 1995);\n",
    "INSERT INTO widgetSale (item_id, customer_id, quan, price) VALUES (2, 2, 3, 1495);\n",
    "INSERT INTO widgetSale (item_id, customer_id, quan, price) VALUES (3, 1, 1, 2995);\n",
    "\n",
    "SELECT * FROM widgetSale;\n",
    "SELECT * FROM widgetCustomer;\n",
    "SELECT * FROM widgetLog;\n",
    "\n",
    "-- restore database\n",
    "DROP TRIGGER IF EXISTS newWidgetSale;\n",
    "DROP TRIGGER IF EXISTS updateWidgetSale;\n",
    "DROP TRIGGER IF EXISTS stampSale;\n",
    "\n",
    "DROP TABLE IF EXISTS widgetCustomer;\n",
    "DROP TABLE IF EXISTS widgetSale;\n",
    "DROP TABLE IF EXISTS widgetLog;\n",
    "```"
   ]
  }
 ],
 "metadata": {
  "kernelspec": {
   "display_name": "Python 3",
   "language": "python",
   "name": "python3"
  },
  "language_info": {
   "codemirror_mode": {
    "name": "ipython",
    "version": 3
   },
   "file_extension": ".py",
   "mimetype": "text/x-python",
   "name": "python",
   "nbconvert_exporter": "python",
   "pygments_lexer": "ipython3",
   "version": "3.7.9"
  },
  "toc": {
   "base_numbering": 1,
   "nav_menu": {},
   "number_sections": true,
   "sideBar": true,
   "skip_h1_title": false,
   "title_cell": "Table of Contents",
   "title_sidebar": "Contents",
   "toc_cell": false,
   "toc_position": {},
   "toc_section_display": true,
   "toc_window_display": false
  }
 },
 "nbformat": 4,
 "nbformat_minor": 4
}
