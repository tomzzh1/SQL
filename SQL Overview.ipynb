{
 "cells": [
  {
   "cell_type": "markdown",
   "metadata": {},
   "source": [
    "### SQL Overview\n",
    "\n",
    "#### Selecting Rows"
   ]
  },
  {
   "cell_type": "code",
   "execution_count": 2,
   "metadata": {},
   "outputs": [],
   "source": [
    "import pandas as pd \n",
    "import sqlite3"
   ]
  },
  {
   "cell_type": "markdown",
   "metadata": {},
   "source": [
    "```SQL\n",
    "\n",
    "-- world.db\n",
    "\n",
    "SELECT 'Hello, World';\n",
    "\n",
    "SELECT 'Hello, World' AS Result;\n",
    "\n",
    "SELECT * FROM Country;\n",
    "\n",
    "SELECT * FROM Country ORDER BY Name;\n",
    "\n",
    "SELECT Name, LifeExpectancy FROM Country ORDER BY Name;\n",
    "\n",
    "SELECT Name, LifeExpectancy AS \"Life Expectancy\" FROM Country ORDER BY Name;\n",
    "\n",
    "SELECT Name, Continent, Region FROM Country;\n",
    "SELECT Name, Continent, Region FROM Country WHERE Continent = 'Europe';\n",
    "SELECT Name, Continent, Region FROM Country WHERE Continent = 'Europe' ORDER BY Name;\n",
    "SELECT Name, Continent, Region FROM Country WHERE Continent = 'Europe' ORDER BY Name LIMIT 5;\n",
    "SELECT Name, Continent, Region FROM Country WHERE Continent = 'Europe' ORDER BY Name LIMIT 5 OFFSET 5;\n",
    "\n",
    "```"
   ]
  },
  {
   "cell_type": "markdown",
   "metadata": {},
   "source": [
    "#### Selecting Columns"
   ]
  },
  {
   "cell_type": "markdown",
   "metadata": {},
   "source": [
    "```SQL\n",
    "-- world.db\n",
    "\n",
    "SELECT * from Country;\n",
    "\n",
    "SELECT Name, Continent, Region \n",
    "from Country;\n",
    "\n",
    "SELECT Name AS Country, Continent, Region \n",
    "from Country;\n",
    "\n",
    "SELECT Name AS Country, Region, Continent \n",
    "from Country;\n",
    "\n",
    "```"
   ]
  },
  {
   "cell_type": "markdown",
   "metadata": {},
   "source": [
    "#### Counting Rows"
   ]
  },
  {
   "cell_type": "markdown",
   "metadata": {},
   "source": [
    "```SQL\n",
    "-- world.db\n",
    "\n",
    "SELECT COUNT(*) \n",
    "FROM Country;\n",
    "\n",
    "SELECT COUNT(*) \n",
    "FROM Country \n",
    "WHERE Population > 1000000;\n",
    "\n",
    "SELECT COUNT(*) \n",
    "FROM Country \n",
    "WHERE Population > 100000000;\n",
    "\n",
    "SELECT COUNT(*) \n",
    "FROM Country \n",
    "WHERE Population > 100000000 AND Continent = 'Europe' ;\n",
    "\n",
    "SELECT COUNT(*) \n",
    "FROM Country;\n",
    "\n",
    "SELECT COUNT(LifeExpectancy) \n",
    "FROM Country;\n",
    "```"
   ]
  },
  {
   "cell_type": "markdown",
   "metadata": {},
   "source": [
    "#### 08 Updating Data\n",
    "\n",
    "```SQL\n",
    "-- test.db\n",
    "\n",
    "SELECT * FROM customer;\n",
    "UPDATE customer SET address = '123 Music Avenue', zip = '98056' WHERE id = 5;\n",
    "UPDATE customer SET address = '2603 S Washington St', zip = '98056' WHERE id = 5;\n",
    "UPDATE customer SET address = NULL, zip = NULL WHERE id = 5;\n",
    "```"
   ]
  },
  {
   "cell_type": "code",
   "execution_count": 7,
   "metadata": {},
   "outputs": [
    {
     "data": {
      "text/html": [
       "<div>\n",
       "<style scoped>\n",
       "    .dataframe tbody tr th:only-of-type {\n",
       "        vertical-align: middle;\n",
       "    }\n",
       "\n",
       "    .dataframe tbody tr th {\n",
       "        vertical-align: top;\n",
       "    }\n",
       "\n",
       "    .dataframe thead th {\n",
       "        text-align: right;\n",
       "    }\n",
       "</style>\n",
       "<table border=\"1\" class=\"dataframe\">\n",
       "  <thead>\n",
       "    <tr style=\"text-align: right;\">\n",
       "      <th></th>\n",
       "      <th>id</th>\n",
       "      <th>name</th>\n",
       "      <th>address</th>\n",
       "      <th>city</th>\n",
       "      <th>state</th>\n",
       "      <th>zip</th>\n",
       "    </tr>\n",
       "  </thead>\n",
       "  <tbody>\n",
       "    <tr>\n",
       "      <th>0</th>\n",
       "      <td>1</td>\n",
       "      <td>Bill Smith</td>\n",
       "      <td>123 Main Street</td>\n",
       "      <td>Hope</td>\n",
       "      <td>CA</td>\n",
       "      <td>98765</td>\n",
       "    </tr>\n",
       "    <tr>\n",
       "      <th>1</th>\n",
       "      <td>2</td>\n",
       "      <td>Mary Smith</td>\n",
       "      <td>123 Dorian Street</td>\n",
       "      <td>Harmony</td>\n",
       "      <td>AZ</td>\n",
       "      <td>98765</td>\n",
       "    </tr>\n",
       "    <tr>\n",
       "      <th>2</th>\n",
       "      <td>3</td>\n",
       "      <td>Bob Smith</td>\n",
       "      <td>123 Laugh Street</td>\n",
       "      <td>Humor</td>\n",
       "      <td>CA</td>\n",
       "      <td>98765</td>\n",
       "    </tr>\n",
       "    <tr>\n",
       "      <th>3</th>\n",
       "      <td>6</td>\n",
       "      <td>Jimi Hendrix</td>\n",
       "      <td>None</td>\n",
       "      <td>Renton</td>\n",
       "      <td>WA</td>\n",
       "      <td>None</td>\n",
       "    </tr>\n",
       "    <tr>\n",
       "      <th>4</th>\n",
       "      <td>7</td>\n",
       "      <td>Fred Flinstone</td>\n",
       "      <td>123 Cobblestone Way</td>\n",
       "      <td>Bedrock</td>\n",
       "      <td>CA</td>\n",
       "      <td>92134</td>\n",
       "    </tr>\n",
       "    <tr>\n",
       "      <th>5</th>\n",
       "      <td>8</td>\n",
       "      <td>Jimi Hendrix</td>\n",
       "      <td>None</td>\n",
       "      <td>Renton</td>\n",
       "      <td>WA</td>\n",
       "      <td>None</td>\n",
       "    </tr>\n",
       "  </tbody>\n",
       "</table>\n",
       "</div>"
      ],
      "text/plain": [
       "   id            name              address     city state    zip\n",
       "0   1      Bill Smith      123 Main Street     Hope    CA  98765\n",
       "1   2      Mary Smith    123 Dorian Street  Harmony    AZ  98765\n",
       "2   3       Bob Smith     123 Laugh Street    Humor    CA  98765\n",
       "3   6    Jimi Hendrix                 None   Renton    WA   None\n",
       "4   7  Fred Flinstone  123 Cobblestone Way  Bedrock    CA  92134\n",
       "5   8    Jimi Hendrix                 None   Renton    WA   None"
      ]
     },
     "execution_count": 7,
     "metadata": {},
     "output_type": "execute_result"
    }
   ],
   "source": [
    "con = sqlite3.connect(\"data/test.db\")\n",
    "pd.read_sql_query(\"SELECT * FROM customer\", con)"
   ]
  },
  {
   "cell_type": "markdown",
   "metadata": {},
   "source": [
    "#### Deleting Data\n",
    "\n",
    "```SQL\n",
    "-- test.db\n",
    "\n",
    "SELECT * FROM customer WHERE id = 4;\n",
    "DELETE FROM customer WHERE id = 4;\n",
    "SELECT * FROM customer;\n",
    "DELETE FROM customer WHERE id = 5;\n",
    "SELECT * FROM customer;\n",
    "```"
   ]
  },
  {
   "cell_type": "code",
   "execution_count": 9,
   "metadata": {},
   "outputs": [
    {
     "data": {
      "text/html": [
       "<div>\n",
       "<style scoped>\n",
       "    .dataframe tbody tr th:only-of-type {\n",
       "        vertical-align: middle;\n",
       "    }\n",
       "\n",
       "    .dataframe tbody tr th {\n",
       "        vertical-align: top;\n",
       "    }\n",
       "\n",
       "    .dataframe thead th {\n",
       "        text-align: right;\n",
       "    }\n",
       "</style>\n",
       "<table border=\"1\" class=\"dataframe\">\n",
       "  <thead>\n",
       "    <tr style=\"text-align: right;\">\n",
       "      <th></th>\n",
       "      <th>id</th>\n",
       "      <th>name</th>\n",
       "      <th>address</th>\n",
       "      <th>city</th>\n",
       "      <th>state</th>\n",
       "      <th>zip</th>\n",
       "    </tr>\n",
       "  </thead>\n",
       "  <tbody>\n",
       "    <tr>\n",
       "      <th>0</th>\n",
       "      <td>1</td>\n",
       "      <td>Bill Smith</td>\n",
       "      <td>123 Main Street</td>\n",
       "      <td>Hope</td>\n",
       "      <td>CA</td>\n",
       "      <td>98765</td>\n",
       "    </tr>\n",
       "  </tbody>\n",
       "</table>\n",
       "</div>"
      ],
      "text/plain": [
       "   id        name          address  city state    zip\n",
       "0   1  Bill Smith  123 Main Street  Hope    CA  98765"
      ]
     },
     "execution_count": 9,
     "metadata": {},
     "output_type": "execute_result"
    }
   ],
   "source": [
    "con = sqlite3.connect(\"data/test.db\")\n",
    "pd.read_sql_query(\"SELECT * FROM customer WHERE id = 1\", con)"
   ]
  }
 ],
 "metadata": {
  "kernelspec": {
   "display_name": "Python 3",
   "language": "python",
   "name": "python3"
  },
  "language_info": {
   "codemirror_mode": {
    "name": "ipython",
    "version": 3
   },
   "file_extension": ".py",
   "mimetype": "text/x-python",
   "name": "python",
   "nbconvert_exporter": "python",
   "pygments_lexer": "ipython3",
   "version": "3.7.9"
  },
  "toc": {
   "base_numbering": 1,
   "nav_menu": {},
   "number_sections": true,
   "sideBar": true,
   "skip_h1_title": false,
   "title_cell": "Table of Contents",
   "title_sidebar": "Contents",
   "toc_cell": false,
   "toc_position": {},
   "toc_section_display": true,
   "toc_window_display": true
  }
 },
 "nbformat": 4,
 "nbformat_minor": 4
}
